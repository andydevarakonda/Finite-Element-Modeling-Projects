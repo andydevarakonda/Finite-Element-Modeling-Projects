{
 "cells": [
  {
   "cell_type": "code",
   "execution_count": 1,
   "metadata": {},
   "outputs": [
    {
     "ename": "NameError",
     "evalue": "name 'appendNum' is not defined",
     "output_type": "error",
     "traceback": [
      "\u001b[1;31m---------------------------------------------------------------------------\u001b[0m",
      "\u001b[1;31mNameError\u001b[0m                                 Traceback (most recent call last)",
      "\u001b[1;32mc:\\Users\\andy\\Desktop\\ENGR 492\\Assignment_1_code.ipynb Cell 1\u001b[0m in \u001b[0;36m<cell line: 11>\u001b[1;34m()\u001b[0m\n\u001b[0;32m      <a href='vscode-notebook-cell:/c%3A/Users/andy/Desktop/ENGR%20492/Assignment_1_code.ipynb#W1sZmlsZQ%3D%3D?line=8'>9</a>\u001b[0m total_deformation \u001b[39m=\u001b[39m []\n\u001b[0;32m     <a href='vscode-notebook-cell:/c%3A/Users/andy/Desktop/ENGR%20492/Assignment_1_code.ipynb#W1sZmlsZQ%3D%3D?line=9'>10</a>\u001b[0m size \u001b[39m=\u001b[39m \u001b[39mint\u001b[39m(\u001b[39minput\u001b[39m(\u001b[39m'\u001b[39m\u001b[39mInput number of N values desired\u001b[39m\u001b[39m'\u001b[39m))\n\u001b[1;32m---> <a href='vscode-notebook-cell:/c%3A/Users/andy/Desktop/ENGR%20492/Assignment_1_code.ipynb#W1sZmlsZQ%3D%3D?line=10'>11</a>\u001b[0m N_array \u001b[39m=\u001b[39m appendNum(size)\n\u001b[0;32m     <a href='vscode-notebook-cell:/c%3A/Users/andy/Desktop/ENGR%20492/Assignment_1_code.ipynb#W1sZmlsZQ%3D%3D?line=11'>12</a>\u001b[0m totalDelta \u001b[39m=\u001b[39m calculate(N_array)\n\u001b[0;32m     <a href='vscode-notebook-cell:/c%3A/Users/andy/Desktop/ENGR%20492/Assignment_1_code.ipynb#W1sZmlsZQ%3D%3D?line=12'>13</a>\u001b[0m displayDeformation(totalDelta,N_array)\n",
      "\u001b[1;31mNameError\u001b[0m: name 'appendNum' is not defined"
     ]
    }
   ],
   "source": [
    "import math\n",
    "L = 2\n",
    "D = 0.1\n",
    "d = 0.02\n",
    "E = 210*math.pow(10,9)\n",
    "P = 950000\n",
    "\n",
    "\n",
    "total_deformation = []\n",
    "size = int(input('Input number of N 2values desired'))\n",
    "N_array = appendNum(size)\n",
    "totalDelta = calculate(N_array)\n",
    "displayDeformation(totalDelta,N_array)\n"
   ]
  },
  {
   "cell_type": "code",
   "execution_count": null,
   "metadata": {},
   "outputs": [],
   "source": [
    "def appendNum(size):\n",
    "    N = []\n",
    "    for i in range(size):\n",
    "        num = int(input(\"Enter value for element {}: \".format(i+1)))\n",
    "        N.append(num)\n",
    "    return N\n",
    "    \n",
    "def displayDeformation(array,N_array):  \n",
    "    for i, (deformation, n) in enumerate(zip(array, N_array)):\n",
    "        print(f'{i+1}. The deformation value for N = {n} iterations is : {deformation *  math.pow(10,3)} mm')\n",
    "        \n",
    "    \n",
    "def calculate(N_array):\n",
    "    N = []\n",
    "    N = N_array\n",
    "    for i in N:\n",
    "        diameter=((D-d)/(i-1))\n",
    "        width=(L/i)\n",
    "        deformation = 0\n",
    "        for a in range(0,i):\n",
    "            delta= (P*width)/(E*(math.pi/4)*math.pow(d + (diameter*(a)) , 2))\n",
    "            deformation += delta\n",
    "        total_deformation.append(deformation)\n",
    "\n",
    "    return total_deformation\n"
   ]
  }
 ],
 "metadata": {
  "kernelspec": {
   "display_name": "Python 3",
   "language": "python",
   "name": "python3"
  },
  "language_info": {
   "codemirror_mode": {
    "name": "ipython",
    "version": 3
   },
   "file_extension": ".py",
   "mimetype": "text/x-python",
   "name": "python",
   "nbconvert_exporter": "python",
   "pygments_lexer": "ipython3",
   "version": "3.9.12"
  },
  "orig_nbformat": 4,
  "vscode": {
   "interpreter": {
    "hash": "811d85b7d7212a69503cfb2d6bcdb6377f33a3284338f1e6352c52d5055ad81c"
   }
  }
 },
 "nbformat": 4,
 "nbformat_minor": 2
}
