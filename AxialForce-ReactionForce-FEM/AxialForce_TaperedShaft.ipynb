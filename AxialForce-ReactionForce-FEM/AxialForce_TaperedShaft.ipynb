{
 "cells": [
  {
   "cell_type": "code",
   "execution_count": 15,
   "metadata": {},
   "outputs": [
    {
     "name": "stdout",
     "output_type": "stream",
     "text": [
      "The location where the normal stress is equal is at location:  0.25 m\n"
     ]
    }
   ],
   "source": [
    "import numpy as np\n",
    "#authors: Anirudh Devarakonda & Muskan Garg\n",
    "# Constants\n",
    "L = 1  # length of the shaft\n",
    "F = 500  # Force in Newtons\n",
    "E = 260*10**9 # Modulus of Elasticity\n",
    "D = 0.75  # Big diameter in meters\n",
    "d = 0.25  # Small diameter in meters\n",
    "Area_1 = (1/4)*np.pi*D**2 # Area of the big diameter sided circular cross-section \n",
    "Area_2 = (1/4)*np.pi*d**2 # Area of the small diameter sided circular cross-section\n",
    "\n",
    "# Number of finite elements\n",
    "N = int(input('Enter number of finite elements'))\n",
    "\n",
    "# Initialize the minimum difference in stress\n",
    "Q = 1000000\n",
    "\n",
    "# Loop through each finite element\n",
    "for i in range(N):\n",
    "    # Get the change in x position\n",
    "    dx = i/N\n",
    "\n",
    "    # Calculate the reaction forces P1 and P2\n",
    "    P1 = (F*L - F*dx)/(d*((dx/D)-(dx/d)+(L/d)))\n",
    "    P2 = F-P1\n",
    "    \n",
    "    # Calculate the normal stresses\n",
    "    Sigma1 = P1/Area_1\n",
    "    Sigma2 = P2/Area_2\n",
    "    \n",
    "    # Calculate the difference in stresses\n",
    "    dif = abs(Sigma1-Sigma2)\n",
    "    \n",
    "    # Update the minimum difference \n",
    "    if dif < Q:\n",
    "        Q = dif\n",
    "        dx_eq = dx\n",
    "\n",
    "# Print the location where the normal stresses are equal\n",
    "print(\"The location where the normal stress is equal is at location: \",dx_eq,\"m\")\n"
   ]
  }
 ],
 "metadata": {
  "kernelspec": {
   "display_name": "Python 3",
   "language": "python",
   "name": "python3"
  },
  "language_info": {
   "codemirror_mode": {
    "name": "ipython",
    "version": 3
   },
   "file_extension": ".py",
   "mimetype": "text/x-python",
   "name": "python",
   "nbconvert_exporter": "python",
   "pygments_lexer": "ipython3",
   "version": "3.9.12"
  },
  "orig_nbformat": 4,
  "vscode": {
   "interpreter": {
    "hash": "811d85b7d7212a69503cfb2d6bcdb6377f33a3284338f1e6352c52d5055ad81c"
   }
  }
 },
 "nbformat": 4,
 "nbformat_minor": 2
}
